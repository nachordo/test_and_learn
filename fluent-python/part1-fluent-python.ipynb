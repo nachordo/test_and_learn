{
 "cells": [
  {
   "cell_type": "code",
   "execution_count": 1,
   "id": "entitled-fundamentals",
   "metadata": {},
   "outputs": [],
   "source": [
    "import numpy as np\n",
    "from math import hypot"
   ]
  },
  {
   "cell_type": "markdown",
   "id": "smaller-tobago",
   "metadata": {},
   "source": [
    "## Baraja española, named tuples"
   ]
  },
  {
   "cell_type": "code",
   "execution_count": 2,
   "id": "french-conviction",
   "metadata": {},
   "outputs": [],
   "source": [
    "import collections"
   ]
  },
  {
   "cell_type": "markdown",
   "id": "alert-ordinance",
   "metadata": {},
   "source": [
    "The problem comes when you want to read in a file where each line has 17 fields. It gets really hard to remember which index is for which field. At this point, many programmers create a class with read-only properties for this purpose, so they can say class.field (e.g., people[0].first_name, people[0].last_name, etc.). Such a class has no methods; it only exists to store the data.\n",
    "\n",
    "\n",
    "It’s overkill to use a class for this purpose. Python provides an elegant solution – named tuples. A named tuple is exactly like a normal tuple, except that the fields can also be accessed by .fieldname. Named tuples are still immutable, you can still index elements with integers, and you can iterate over the elements. With a named tuple, you can say record.first_name, record.last_name, as with a class, but without the extra code of a class."
   ]
  },
  {
   "cell_type": "code",
   "execution_count": 3,
   "id": "available-cloud",
   "metadata": {},
   "outputs": [],
   "source": [
    "Carta = collections.namedtuple('Carta', ['valores', 'palos'])\n",
    "class BarajaEspanola:\n",
    "    valores = [\"As\"]+[str(n) for n in range(2, 10)] + [\"Sota\",\"Caballo\",\"Rey\"]\n",
    "    palos = 'Oros Copas Espadas Bastos'.split()\n",
    "    def __init__(self):\n",
    "        self._cards = [Carta(valor, palo) for palo in self.palos for valor in self.valores]\n",
    "    def __len__(self):\n",
    "        return len(self._cards)\n",
    "    def __getitem__(self, position):\n",
    "        return self._cards[position]"
   ]
  },
  {
   "cell_type": "code",
   "execution_count": 4,
   "id": "sexual-queens",
   "metadata": {},
   "outputs": [],
   "source": [
    "carta_mesa = Carta(\"7\",\"Bastos\")"
   ]
  },
  {
   "cell_type": "code",
   "execution_count": 5,
   "id": "prescription-words",
   "metadata": {},
   "outputs": [
    {
     "data": {
      "text/plain": [
       "Carta(valores='7', palos='Bastos')"
      ]
     },
     "execution_count": 5,
     "metadata": {},
     "output_type": "execute_result"
    }
   ],
   "source": [
    "carta_mesa"
   ]
  },
  {
   "cell_type": "code",
   "execution_count": 6,
   "id": "faced-thong",
   "metadata": {},
   "outputs": [],
   "source": [
    "Baraja=BarajaEspanola()"
   ]
  },
  {
   "cell_type": "code",
   "execution_count": 7,
   "id": "current-swimming",
   "metadata": {},
   "outputs": [
    {
     "data": {
      "text/plain": [
       "(Carta(valores='As', palos='Oros'), Carta(valores='Rey', palos='Bastos'))"
      ]
     },
     "execution_count": 7,
     "metadata": {},
     "output_type": "execute_result"
    }
   ],
   "source": [
    "Baraja[0],Baraja[-1]"
   ]
  },
  {
   "cell_type": "code",
   "execution_count": 8,
   "id": "individual-madison",
   "metadata": {},
   "outputs": [
    {
     "data": {
      "text/plain": [
       "[Carta(valores='As', palos='Copas'),\n",
       " Carta(valores='2', palos='Copas'),\n",
       " Carta(valores='3', palos='Copas')]"
      ]
     },
     "execution_count": 8,
     "metadata": {},
     "output_type": "execute_result"
    }
   ],
   "source": [
    "Baraja[12:15]"
   ]
  },
  {
   "cell_type": "code",
   "execution_count": 9,
   "id": "coordinate-hands",
   "metadata": {},
   "outputs": [
    {
     "data": {
      "text/plain": [
       "48"
      ]
     },
     "execution_count": 9,
     "metadata": {},
     "output_type": "execute_result"
    }
   ],
   "source": [
    "len(Baraja)"
   ]
  },
  {
   "cell_type": "code",
   "execution_count": 10,
   "id": "impressive-machine",
   "metadata": {},
   "outputs": [
    {
     "data": {
      "text/plain": [
       "(True, False)"
      ]
     },
     "execution_count": 10,
     "metadata": {},
     "output_type": "execute_result"
    }
   ],
   "source": [
    "Carta(\"Sota\",\"Oros\") in Baraja, Carta(\"Reina\",\"Oros\") in Baraja"
   ]
  },
  {
   "cell_type": "code",
   "execution_count": 11,
   "id": "right-spokesman",
   "metadata": {},
   "outputs": [
    {
     "data": {
      "text/plain": [
       "('Bastos', 'Bastos', '7')"
      ]
     },
     "execution_count": 11,
     "metadata": {},
     "output_type": "execute_result"
    }
   ],
   "source": [
    "carta_mesa[1],carta_mesa.palos,carta_mesa.valores"
   ]
  },
  {
   "cell_type": "markdown",
   "id": "major-devil",
   "metadata": {},
   "source": [
    "## Vectors\n",
    "\n",
    "Creating a Vector class"
   ]
  },
  {
   "cell_type": "code",
   "execution_count": 12,
   "id": "trying-maryland",
   "metadata": {},
   "outputs": [],
   "source": [
    "class Vector:\n",
    "    def __init__(self, x=0, y=0):\n",
    "        self.x = x\n",
    "        self.y = y\n",
    "    def __repr__(self):\n",
    "        return 'Class Vector(x=%r, y=%r)' % (self.x, self.y)\n",
    "    def __abs__(self):\n",
    "        return hypot(self.x, self.y)\n",
    "    def __bool__(self):\n",
    "        return bool(abs(self))\n",
    "    def __add__(self, other):\n",
    "        x = self.x + other.x\n",
    "        y = self.y + other.y\n",
    "        return Vector(x, y)\n",
    "    def __mul__(self, scalar):\n",
    "        return Vector(self.x * scalar, self.y * scalar)"
   ]
  },
  {
   "cell_type": "code",
   "execution_count": 13,
   "id": "atlantic-healing",
   "metadata": {},
   "outputs": [],
   "source": [
    "u_x=Vector(1,0)\n",
    "u_y=Vector(0,1)"
   ]
  },
  {
   "cell_type": "code",
   "execution_count": 14,
   "id": "moved-season",
   "metadata": {},
   "outputs": [
    {
     "data": {
      "text/plain": [
       "Class Vector(x=1, y=0)"
      ]
     },
     "execution_count": 14,
     "metadata": {},
     "output_type": "execute_result"
    }
   ],
   "source": [
    "u_x"
   ]
  },
  {
   "cell_type": "code",
   "execution_count": 15,
   "id": "mechanical-culture",
   "metadata": {},
   "outputs": [
    {
     "data": {
      "text/plain": [
       "Class Vector(x=1, y=1)"
      ]
     },
     "execution_count": 15,
     "metadata": {},
     "output_type": "execute_result"
    }
   ],
   "source": [
    "u_x+u_y"
   ]
  },
  {
   "cell_type": "code",
   "execution_count": 16,
   "id": "simple-librarian",
   "metadata": {},
   "outputs": [
    {
     "data": {
      "text/plain": [
       "Class Vector(x=8, y=0)"
      ]
     },
     "execution_count": 16,
     "metadata": {},
     "output_type": "execute_result"
    }
   ],
   "source": [
    "u_x*8"
   ]
  },
  {
   "cell_type": "code",
   "execution_count": 17,
   "id": "interested-intention",
   "metadata": {},
   "outputs": [
    {
     "data": {
      "text/plain": [
       "(1.4142135623730951, 1.0)"
      ]
     },
     "execution_count": 17,
     "metadata": {},
     "output_type": "execute_result"
    }
   ],
   "source": [
    "abs(u_x+u_y),abs(u_x)"
   ]
  },
  {
   "cell_type": "code",
   "execution_count": 18,
   "id": "acquired-taste",
   "metadata": {},
   "outputs": [],
   "source": [
    "null_v=Vector()"
   ]
  },
  {
   "cell_type": "code",
   "execution_count": 22,
   "id": "worldwide-chorus",
   "metadata": {},
   "outputs": [
    {
     "data": {
      "text/plain": [
       "(False, True)"
      ]
     },
     "execution_count": 22,
     "metadata": {},
     "output_type": "execute_result"
    }
   ],
   "source": [
    "bool(null_v),bool(u_y)"
   ]
  },
  {
   "cell_type": "code",
   "execution_count": null,
   "id": "frozen-spray",
   "metadata": {},
   "outputs": [],
   "source": []
  }
 ],
 "metadata": {
  "kernelspec": {
   "display_name": "Python 3",
   "language": "python",
   "name": "python3"
  },
  "language_info": {
   "codemirror_mode": {
    "name": "ipython",
    "version": 3
   },
   "file_extension": ".py",
   "mimetype": "text/x-python",
   "name": "python",
   "nbconvert_exporter": "python",
   "pygments_lexer": "ipython3",
   "version": "3.8.8"
  }
 },
 "nbformat": 4,
 "nbformat_minor": 5
}
