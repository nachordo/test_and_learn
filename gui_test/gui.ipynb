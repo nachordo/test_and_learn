{
 "cells": [
  {
   "cell_type": "code",
   "execution_count": 1,
   "metadata": {},
   "outputs": [],
   "source": [
    "from tkinter import *\n",
    "import time"
   ]
  },
  {
   "cell_type": "code",
   "execution_count": 6,
   "metadata": {},
   "outputs": [],
   "source": [
    "window = Tk()\n",
    "#size\n",
    "window.geometry('550x200')\n",
    "# THe title\n",
    "window.title(\"GUI testing app\")\n",
    "#text in the app\n",
    "lbl = Label(window, text=\"\\n Chorradas para ver cómo funciona \\n\", font=(\"Arial Narrow\", 12))\n",
    "#Where to place the previous text\n",
    "lbl.grid(column=0, row=0)\n",
    "txt = Entry(window,width=10)\n",
    "txt.grid(column=0, row=1)\n",
    "# Func to execute when you click\n",
    "def clicked():\n",
    "    lbl2 = Label(window, text=\"         \", font=(\"Comic Sans\", 25))\n",
    "    time.sleep(1)\n",
    "    lbl2 = Label(window, text=txt.get(), font=(\"Comic Sans\", 25))\n",
    "    lbl2.grid(column=1, row=0)\n",
    "#Da button\n",
    "btn = Button(window, text=\"PINCHAME, ANDA\", font=(\"Arial Bold\", 12), bg=\"red\", fg=\"black\", command=clicked)\n",
    "btn.grid(column=1, row=1)\n",
    "#text\n",
    "lbl2 = Label(window, text=\"Escribe cosicas y pincha\", font=(\"Comic Sans\", 5))\n",
    "lbl2.grid(column=0, row=2)\n",
    "window.mainloop()"
   ]
  },
  {
   "cell_type": "code",
   "execution_count": null,
   "metadata": {},
   "outputs": [],
   "source": []
  }
 ],
 "metadata": {
  "kernelspec": {
   "display_name": "Python 3",
   "language": "python",
   "name": "python3"
  },
  "language_info": {
   "codemirror_mode": {
    "name": "ipython",
    "version": 3
   },
   "file_extension": ".py",
   "mimetype": "text/x-python",
   "name": "python",
   "nbconvert_exporter": "python",
   "pygments_lexer": "ipython3",
   "version": "3.8.3"
  }
 },
 "nbformat": 4,
 "nbformat_minor": 4
}
