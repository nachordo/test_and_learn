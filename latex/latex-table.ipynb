{
 "cells": [
  {
   "cell_type": "code",
   "execution_count": 5,
   "metadata": {},
   "outputs": [],
   "source": [
    "import numpy as np\n",
    "import pandas as pd\n",
    "#import functools "
   ]
  },
  {
   "cell_type": "code",
   "execution_count": 6,
   "metadata": {},
   "outputs": [],
   "source": [
    "head=[\"oname\",\"av\",\"avlo\",\"avhi\",\"lbol\",\"lbollo\",\"lbolhi\",\"ra\",\"dec\"]\n",
    "\n",
    "oname=[\"NGC12314\",\"NGC35374\",\"NGC884791\"]\n",
    "av=[0.12,0.00,1.2]\n",
    "avlo=[0.1,0.0,0.2]\n",
    "avhi=[0.2,0.1,0.2]\n",
    "lbol=[45.1,44.2,43.7]\n",
    "lbollo=[0.3,0.4,0.2]\n",
    "lbolhi=[0.3,0.2,0.3]\n",
    "ra=[10.625, 15.3, 20.2]\n",
    "dec=[41.2, 44.3,40.2]\n",
    "data = {\"oname\":oname,\"av\":av,\"avlo\":avlo,\"avhi\":avhi,\"lbol\":lbol,\"lbollo\":lbollo,\"lbolhi\":lbolhi,\"ra\":ra,\"dec\":dec}"
   ]
  },
  {
   "cell_type": "code",
   "execution_count": 7,
   "metadata": {},
   "outputs": [
    {
     "data": {
      "text/html": [
       "<div>\n",
       "<style scoped>\n",
       "    .dataframe tbody tr th:only-of-type {\n",
       "        vertical-align: middle;\n",
       "    }\n",
       "\n",
       "    .dataframe tbody tr th {\n",
       "        vertical-align: top;\n",
       "    }\n",
       "\n",
       "    .dataframe thead th {\n",
       "        text-align: right;\n",
       "    }\n",
       "</style>\n",
       "<table border=\"1\" class=\"dataframe\">\n",
       "  <thead>\n",
       "    <tr style=\"text-align: right;\">\n",
       "      <th></th>\n",
       "      <th>oname</th>\n",
       "      <th>av</th>\n",
       "      <th>avlo</th>\n",
       "      <th>avhi</th>\n",
       "      <th>lbol</th>\n",
       "      <th>lbollo</th>\n",
       "      <th>lbolhi</th>\n",
       "      <th>ra</th>\n",
       "      <th>dec</th>\n",
       "    </tr>\n",
       "  </thead>\n",
       "  <tbody>\n",
       "    <tr>\n",
       "      <th>0</th>\n",
       "      <td>NGC12314</td>\n",
       "      <td>0.12</td>\n",
       "      <td>0.1</td>\n",
       "      <td>0.2</td>\n",
       "      <td>45.1</td>\n",
       "      <td>0.3</td>\n",
       "      <td>0.3</td>\n",
       "      <td>10.625</td>\n",
       "      <td>41.2</td>\n",
       "    </tr>\n",
       "    <tr>\n",
       "      <th>1</th>\n",
       "      <td>NGC35374</td>\n",
       "      <td>0.00</td>\n",
       "      <td>0.0</td>\n",
       "      <td>0.1</td>\n",
       "      <td>44.2</td>\n",
       "      <td>0.4</td>\n",
       "      <td>0.2</td>\n",
       "      <td>15.300</td>\n",
       "      <td>44.3</td>\n",
       "    </tr>\n",
       "    <tr>\n",
       "      <th>2</th>\n",
       "      <td>NGC884791</td>\n",
       "      <td>1.20</td>\n",
       "      <td>0.2</td>\n",
       "      <td>0.2</td>\n",
       "      <td>43.7</td>\n",
       "      <td>0.2</td>\n",
       "      <td>0.3</td>\n",
       "      <td>20.200</td>\n",
       "      <td>40.2</td>\n",
       "    </tr>\n",
       "  </tbody>\n",
       "</table>\n",
       "</div>"
      ],
      "text/plain": [
       "       oname    av  avlo  avhi  lbol  lbollo  lbolhi      ra   dec\n",
       "0   NGC12314  0.12   0.1   0.2  45.1     0.3     0.3  10.625  41.2\n",
       "1   NGC35374  0.00   0.0   0.1  44.2     0.4     0.2  15.300  44.3\n",
       "2  NGC884791  1.20   0.2   0.2  43.7     0.2     0.3  20.200  40.2"
      ]
     },
     "execution_count": 7,
     "metadata": {},
     "output_type": "execute_result"
    }
   ],
   "source": [
    "dff = pd.DataFrame(data)\n",
    "dff"
   ]
  },
  {
   "cell_type": "code",
   "execution_count": 87,
   "metadata": {},
   "outputs": [],
   "source": [
    "class DataframeToLatex:\n",
    "    def __init__(self, df):\n",
    "        # Creating the Class with the DataFrame info and the basic tabular format\n",
    "        self.df = df\n",
    "        self.head = {}\n",
    "        \n",
    "    def format_coltab(self,vline=\"simple\"):\n",
    "        # Formating the columns\n",
    "        self.tab_init=r\"\"\"\n",
    "\\begin{center}\n",
    "\\begin{tabular}\"\"\"\n",
    "        if vline == \"simple\":\n",
    "            coltab=\"{\"+\"|c\"*len(self.df.columns)+\"|}\\n\" \n",
    "        elif vline == \"none\":\n",
    "            coltab=\"{\"+\"c\"*len(self.df.columns)+\"}\\n\"\n",
    "        elif vline == \"double\":\n",
    "            coltab=\"{\"+\"||c\"*len(self.df.columns)+\"||}\\n\"\n",
    "        else:\n",
    "            print(\"vline comand invalid, assuming the standard\")\n",
    "            \n",
    "        self.tab_end=r\"\"\"\\end{tabular}\n",
    "\\end{center}\n",
    "        \"\"\"\n",
    "        self.tab_init+=coltab \n",
    "    \n",
    "    def col_text(self,val,text):\n",
    "        # Add the text to be put in the header for the column \"val\"\n",
    "        if type(text)==str:\n",
    "            self.head[val]=text\n",
    "        else:\n",
    "            print(\"ERROR\")\n",
    "    \n",
    "    def hline_format(self,line):\n",
    "        if line == \"simple\":\n",
    "            lineformat=\"\\hline\"\n",
    "        elif line == \"none\":\n",
    "            lineformat=\"\"\n",
    "        elif line == \"double\":\n",
    "            lineformat=\"\\hline\\hline\"\n",
    "        else:\n",
    "            print(f\"''{str(line)}'' comand invalid, assuming simple\")\n",
    "            lineformat=\"\\hline\"\n",
    "        return lineformat\n",
    "        \n",
    "    def print_head(self,row):\n",
    "        # Printing the header\n",
    "        row_str=\"\"\n",
    "        rows=list(map(str,row))\n",
    "        data_rows=[self.head.get(el,el) for el in rows]\n",
    "        row_str+= \" & \".join(data_rows)+r\" \\\\\" \n",
    "        return row_str\n",
    "    \n",
    "    def print_row(self,row):\n",
    "        # Printing a single row\n",
    "        row_str=\"\"\n",
    "        data_rows=list(map(str,row))\n",
    "        row_str+= \" & \".join(data_rows)+r\" \\\\\"\n",
    "        return row_str\n",
    "    \n",
    "    def printing(self,vline=\"simple\",hline=\"simple\",hline_head=\"double\"):\n",
    "        # Main function to print the complete LaTeX table\n",
    "        self.format_coltab(vline) # Creating the table format\n",
    "        tb=\"\"\n",
    "        # print header\n",
    "        hlineh=self.hline_format(hline_head)\n",
    "        tb+=self.tab_init+\"\\n\"\n",
    "        tb+=self.print_head(self.df.columns)+hlineh+\"\\n\"\n",
    "        hline_row=self.hline_format(hline)\n",
    "        for row in range(len(dff)):\n",
    "            tb+=self.print_row(self.df.values[row])+hline_row+\"\\n\"\n",
    "        return tb+self.tab_end"
   ]
  },
  {
   "cell_type": "code",
   "execution_count": 88,
   "metadata": {},
   "outputs": [],
   "source": [
    "survey = DataframeToLatex(dff)"
   ]
  },
  {
   "cell_type": "code",
   "execution_count": 89,
   "metadata": {},
   "outputs": [],
   "source": [
    "survey.col_text(\"av\",\"A_V\")\n",
    "survey.col_text(\"ra\",\"RA (deg)\")\n",
    "survey.col_text(\"oname\",\"Interesting Object\")"
   ]
  },
  {
   "cell_type": "code",
   "execution_count": 90,
   "metadata": {},
   "outputs": [
    {
     "name": "stdout",
     "output_type": "stream",
     "text": [
      "\n",
      "\\begin{center}\n",
      "\\begin{tabular}{|c|c|c|c|c|c|c|c|c|}\n",
      "\n",
      "Interesting Object & A_V & avlo & avhi & lbol & lbollo & lbolhi & RA (deg) & dec \\\\\\hline\\hline\n",
      "NGC12314 & 0.12 & 0.1 & 0.2 & 45.1 & 0.3 & 0.3 & 10.625 & 41.2 \\\\\\hline\n",
      "NGC35374 & 0.0 & 0.0 & 0.1 & 44.2 & 0.4 & 0.2 & 15.3 & 44.3 \\\\\\hline\n",
      "NGC884791 & 1.2 & 0.2 & 0.2 & 43.7 & 0.2 & 0.3 & 20.2 & 40.2 \\\\\\hline\n",
      "\\end{tabular}\n",
      "\\end{center}\n",
      "        \n"
     ]
    }
   ],
   "source": [
    "print(survey.printing())"
   ]
  },
  {
   "cell_type": "code",
   "execution_count": 92,
   "metadata": {},
   "outputs": [
    {
     "name": "stdout",
     "output_type": "stream",
     "text": [
      "\n",
      "\\begin{center}\n",
      "\\begin{tabular}{ccccccccc}\n",
      "\n",
      "Interesting Object & A_V & avlo & avhi & lbol & lbollo & lbolhi & RA (deg) & dec \\\\\\hline\n",
      "NGC12314 & 0.12 & 0.1 & 0.2 & 45.1 & 0.3 & 0.3 & 10.625 & 41.2 \\\\\n",
      "NGC35374 & 0.0 & 0.0 & 0.1 & 44.2 & 0.4 & 0.2 & 15.3 & 44.3 \\\\\n",
      "NGC884791 & 1.2 & 0.2 & 0.2 & 43.7 & 0.2 & 0.3 & 20.2 & 40.2 \\\\\n",
      "\\end{tabular}\n",
      "\\end{center}\n",
      "        \n"
     ]
    }
   ],
   "source": [
    "print(survey.printing(hline=\"none\",hline_head=\"simple\",vline=\"none\"))"
   ]
  },
  {
   "cell_type": "code",
   "execution_count": null,
   "metadata": {},
   "outputs": [],
   "source": []
  },
  {
   "cell_type": "code",
   "execution_count": null,
   "metadata": {},
   "outputs": [],
   "source": []
  }
 ],
 "metadata": {
  "kernelspec": {
   "display_name": "Python 3",
   "language": "python",
   "name": "python3"
  },
  "language_info": {
   "codemirror_mode": {
    "name": "ipython",
    "version": 3
   },
   "file_extension": ".py",
   "mimetype": "text/x-python",
   "name": "python",
   "nbconvert_exporter": "python",
   "pygments_lexer": "ipython3",
   "version": "3.8.3"
  }
 },
 "nbformat": 4,
 "nbformat_minor": 4
}
