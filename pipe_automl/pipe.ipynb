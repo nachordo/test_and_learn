{
 "cells": [
  {
   "cell_type": "code",
   "execution_count": 7,
   "metadata": {},
   "outputs": [],
   "source": [
    "from sklearn.base import BaseEstimator\n",
    "from sklearn.linear_model import LogisticRegression\n",
    "from sklearn.svm import LinearSVC\n",
    "from sklearn.neighbors import KNeighborsClassifier\n",
    "from sklearn.naive_bayes import GaussianNB\n",
    "from sklearn.ensemble import RandomForestClassifier\n",
    "from sklearn.model_selection import GridSearchCV\n",
    "from sklearn.pipeline import Pipeline\n",
    "\n",
    "class ClfSwitcher(BaseEstimator):\n",
    "\n",
    "    def __init__(self, estimator = LogisticRegression(),):\n",
    "        \"\"\"\n",
    "        A Custom BaseEstimator that can switch between classifiers.\n",
    "        :param estimator: sklearn object - The classifier\n",
    "        \"\"\" \n",
    "\n",
    "        self.estimator = estimator\n",
    "\n",
    "\n",
    "    def fit(self, X, y=None, **kwargs):\n",
    "        self.estimator.fit(X, y)\n",
    "        return self\n",
    "\n",
    "\n",
    "    def predict(self, X, y=None):\n",
    "        return self.estimator.predict(X)\n",
    "\n",
    "\n",
    "    def predict_proba(self, X):\n",
    "        return self.estimator.predict_proba(X)\n",
    "\n",
    "\n",
    "    def score(self, X, y):\n",
    "        return self.estimator.score(X, y)"
   ]
  },
  {
   "cell_type": "code",
   "execution_count": 2,
   "metadata": {},
   "outputs": [],
   "source": [
    "clf=ClfSwitcher()"
   ]
  },
  {
   "cell_type": "code",
   "execution_count": 8,
   "metadata": {},
   "outputs": [],
   "source": [
    "parameter_space = {\n",
    "    'estimator': [LogisticRegression(), LinearSVC(),\n",
    "                  KNeighborsClassifier(),GaussianNB(),RandomForestClassifier()]\n",
    "}\n",
    "\n",
    "\n",
    "\n"
   ]
  },
  {
   "cell_type": "code",
   "execution_count": 9,
   "metadata": {},
   "outputs": [],
   "source": [
    "from sklearn.datasets import load_iris\n",
    "X, y = load_iris(return_X_y=True)"
   ]
  },
  {
   "cell_type": "code",
   "execution_count": 12,
   "metadata": {},
   "outputs": [
    {
     "name": "stdout",
     "output_type": "stream",
     "text": [
      "Best model:\n",
      " {'estimator': GaussianNB()}\n"
     ]
    }
   ],
   "source": [
    "search = GridSearchCV(clf , parameter_space, n_jobs=-1, cv=5)\n",
    "search.fit(X, y)\n",
    "\n",
    "print('Best model:\\n', search.best_params_)"
   ]
  },
  {
   "cell_type": "code",
   "execution_count": null,
   "metadata": {},
   "outputs": [],
   "source": []
  },
  {
   "cell_type": "code",
   "execution_count": null,
   "metadata": {},
   "outputs": [],
   "source": []
  },
  {
   "cell_type": "code",
   "execution_count": 13,
   "metadata": {},
   "outputs": [
    {
     "data": {
      "text/plain": [
       "{'mean_fit_time': array([0.04758496, 0.00639801, 0.00080018, 0.0013998 , 0.13055787]),\n",
       " 'std_fit_time': array([0.00508256, 0.00101925, 0.00040009, 0.00048965, 0.00990775]),\n",
       " 'mean_score_time': array([0.00059996, 0.00479856, 0.00299854, 0.00059986, 0.00819774]),\n",
       " 'std_score_time': array([4.89862882e-04, 6.73298286e-03, 3.81469727e-07, 7.99894354e-04,\n",
       "        9.79822455e-04]),\n",
       " 'param_estimator': masked_array(data=[LogisticRegression(), LinearSVC(),\n",
       "                    KNeighborsClassifier(), GaussianNB(),\n",
       "                    RandomForestClassifier()],\n",
       "              mask=[False, False, False, False, False],\n",
       "        fill_value='?',\n",
       "             dtype=object),\n",
       " 'params': [{'estimator': LogisticRegression()},\n",
       "  {'estimator': LinearSVC()},\n",
       "  {'estimator': KNeighborsClassifier()},\n",
       "  {'estimator': GaussianNB()},\n",
       "  {'estimator': RandomForestClassifier()}],\n",
       " 'split0_test_score': array([1., 1., 1., 1., 1.]),\n",
       " 'split1_test_score': array([1.        , 1.        , 1.        , 0.96666667, 1.        ]),\n",
       " 'split2_test_score': array([0.86666667, 0.66666667, 0.83333333, 0.9       , 0.86666667]),\n",
       " 'split3_test_score': array([0.93333333, 0.96666667, 0.93333333, 0.93333333, 0.93333333]),\n",
       " 'split4_test_score': array([0.83333333, 0.66666667, 0.8       , 0.93333333, 0.73333333]),\n",
       " 'mean_test_score': array([0.92666667, 0.86      , 0.91333333, 0.94666667, 0.90666667]),\n",
       " 'std_test_score': array([0.06798693, 0.15832456, 0.08326664, 0.03399346, 0.09977753]),\n",
       " 'rank_test_score': array([2, 5, 3, 1, 4])}"
      ]
     },
     "execution_count": 13,
     "metadata": {},
     "output_type": "execute_result"
    }
   ],
   "source": [
    "search.cv_results_"
   ]
  },
  {
   "cell_type": "code",
   "execution_count": null,
   "metadata": {},
   "outputs": [],
   "source": []
  },
  {
   "cell_type": "code",
   "execution_count": null,
   "metadata": {},
   "outputs": [],
   "source": []
  },
  {
   "cell_type": "code",
   "execution_count": null,
   "metadata": {},
   "outputs": [],
   "source": []
  }
 ],
 "metadata": {
  "kernelspec": {
   "display_name": "Python 3",
   "language": "python",
   "name": "python3"
  },
  "language_info": {
   "codemirror_mode": {
    "name": "ipython",
    "version": 3
   },
   "file_extension": ".py",
   "mimetype": "text/x-python",
   "name": "python",
   "nbconvert_exporter": "python",
   "pygments_lexer": "ipython3",
   "version": "3.8.8"
  }
 },
 "nbformat": 4,
 "nbformat_minor": 4
}
