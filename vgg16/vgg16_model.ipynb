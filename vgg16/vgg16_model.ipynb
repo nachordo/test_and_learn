{
 "cells": [
  {
   "cell_type": "markdown",
   "metadata": {},
   "source": [
    "Testing the VGG16 model as seen in https://towardsdatascience.com/step-by-step-vgg16-implementation-in-keras-for-beginners-a833c686ae6c\n",
    "\n",
    "\n",
    "- Importing libraries:"
   ]
  },
  {
   "cell_type": "code",
   "execution_count": 1,
   "metadata": {},
   "outputs": [],
   "source": [
    "import keras,os\n",
    "from keras.models import Sequential\n",
    "from keras.layers import Dense, Conv2D, MaxPool2D , Flatten\n",
    "from keras.preprocessing.image import ImageDataGenerator\n",
    "import numpy as np"
   ]
  },
  {
   "cell_type": "markdown",
   "metadata": {},
   "source": [
    "Loading data from directory. Might be used for data augmentation."
   ]
  },
  {
   "cell_type": "code",
   "execution_count": 2,
   "metadata": {},
   "outputs": [
    {
     "name": "stdout",
     "output_type": "stream",
     "text": [
      "Found 251 images belonging to 3 classes.\n",
      "Found 66 images belonging to 3 classes.\n"
     ]
    }
   ],
   "source": [
    "trdata = ImageDataGenerator()\n",
    "traindata = trdata.flow_from_directory(directory=\"covid19-dataset/train\",target_size=(224,224))\n",
    "tsdata = ImageDataGenerator()\n",
    "testdata = tsdata.flow_from_directory(directory=\"covid19-dataset/test\", target_size=(224,224))"
   ]
  },
  {
   "cell_type": "markdown",
   "metadata": {},
   "source": [
    "VGG16 model"
   ]
  },
  {
   "cell_type": "code",
   "execution_count": 3,
   "metadata": {},
   "outputs": [],
   "source": [
    "model = Sequential()\n",
    "model.add(Conv2D(input_shape=(224,224,3),filters=64,kernel_size=(3,3),padding=\"same\", activation=\"relu\"))\n",
    "model.add(Conv2D(filters=64,kernel_size=(3,3),padding=\"same\", activation=\"relu\"))\n",
    "model.add(MaxPool2D(pool_size=(2,2),strides=(2,2)))\n",
    "model.add(Conv2D(filters=128, kernel_size=(3,3), padding=\"same\", activation=\"relu\"))\n",
    "model.add(Conv2D(filters=128, kernel_size=(3,3), padding=\"same\", activation=\"relu\"))\n",
    "model.add(MaxPool2D(pool_size=(2,2),strides=(2,2)))\n",
    "model.add(Conv2D(filters=256, kernel_size=(3,3), padding=\"same\", activation=\"relu\"))\n",
    "model.add(Conv2D(filters=256, kernel_size=(3,3), padding=\"same\", activation=\"relu\"))\n",
    "model.add(Conv2D(filters=256, kernel_size=(3,3), padding=\"same\", activation=\"relu\"))\n",
    "model.add(MaxPool2D(pool_size=(2,2),strides=(2,2)))\n",
    "model.add(Conv2D(filters=512, kernel_size=(3,3), padding=\"same\", activation=\"relu\"))\n",
    "model.add(Conv2D(filters=512, kernel_size=(3,3), padding=\"same\", activation=\"relu\"))\n",
    "model.add(Conv2D(filters=512, kernel_size=(3,3), padding=\"same\", activation=\"relu\"))\n",
    "model.add(MaxPool2D(pool_size=(2,2),strides=(2,2)))\n",
    "model.add(Conv2D(filters=512, kernel_size=(3,3), padding=\"same\", activation=\"relu\"))\n",
    "model.add(Conv2D(filters=512, kernel_size=(3,3), padding=\"same\", activation=\"relu\"))\n",
    "model.add(Conv2D(filters=512, kernel_size=(3,3), padding=\"same\", activation=\"relu\"))\n",
    "model.add(MaxPool2D(pool_size=(2,2),strides=(2,2)))\n",
    "\n",
    "model.add(Flatten())\n",
    "model.add(Dense(units=4096,activation=\"relu\"))\n",
    "model.add(Dense(units=4096,activation=\"relu\"))\n",
    "model.add(Dense(units=3, activation=\"softmax\"))"
   ]
  },
  {
   "cell_type": "markdown",
   "metadata": {},
   "source": [
    "Define optimizer"
   ]
  },
  {
   "cell_type": "code",
   "execution_count": 4,
   "metadata": {},
   "outputs": [],
   "source": [
    "from keras.optimizers import Adam\n",
    "opt = Adam(lr=0.001)\n",
    "model.compile(optimizer=opt, loss=keras.losses.categorical_crossentropy, metrics=['accuracy'])"
   ]
  },
  {
   "cell_type": "markdown",
   "metadata": {},
   "source": [
    "Summary of the VGG16 model"
   ]
  },
  {
   "cell_type": "code",
   "execution_count": 5,
   "metadata": {},
   "outputs": [
    {
     "name": "stdout",
     "output_type": "stream",
     "text": [
      "Model: \"sequential\"\n",
      "_________________________________________________________________\n",
      "Layer (type)                 Output Shape              Param #   \n",
      "=================================================================\n",
      "conv2d (Conv2D)              (None, 224, 224, 64)      1792      \n",
      "_________________________________________________________________\n",
      "conv2d_1 (Conv2D)            (None, 224, 224, 64)      36928     \n",
      "_________________________________________________________________\n",
      "max_pooling2d (MaxPooling2D) (None, 112, 112, 64)      0         \n",
      "_________________________________________________________________\n",
      "conv2d_2 (Conv2D)            (None, 112, 112, 128)     73856     \n",
      "_________________________________________________________________\n",
      "conv2d_3 (Conv2D)            (None, 112, 112, 128)     147584    \n",
      "_________________________________________________________________\n",
      "max_pooling2d_1 (MaxPooling2 (None, 56, 56, 128)       0         \n",
      "_________________________________________________________________\n",
      "conv2d_4 (Conv2D)            (None, 56, 56, 256)       295168    \n",
      "_________________________________________________________________\n",
      "conv2d_5 (Conv2D)            (None, 56, 56, 256)       590080    \n",
      "_________________________________________________________________\n",
      "conv2d_6 (Conv2D)            (None, 56, 56, 256)       590080    \n",
      "_________________________________________________________________\n",
      "max_pooling2d_2 (MaxPooling2 (None, 28, 28, 256)       0         \n",
      "_________________________________________________________________\n",
      "conv2d_7 (Conv2D)            (None, 28, 28, 512)       1180160   \n",
      "_________________________________________________________________\n",
      "conv2d_8 (Conv2D)            (None, 28, 28, 512)       2359808   \n",
      "_________________________________________________________________\n",
      "conv2d_9 (Conv2D)            (None, 28, 28, 512)       2359808   \n",
      "_________________________________________________________________\n",
      "max_pooling2d_3 (MaxPooling2 (None, 14, 14, 512)       0         \n",
      "_________________________________________________________________\n",
      "conv2d_10 (Conv2D)           (None, 14, 14, 512)       2359808   \n",
      "_________________________________________________________________\n",
      "conv2d_11 (Conv2D)           (None, 14, 14, 512)       2359808   \n",
      "_________________________________________________________________\n",
      "conv2d_12 (Conv2D)           (None, 14, 14, 512)       2359808   \n",
      "_________________________________________________________________\n",
      "max_pooling2d_4 (MaxPooling2 (None, 7, 7, 512)         0         \n",
      "_________________________________________________________________\n",
      "flatten (Flatten)            (None, 25088)             0         \n",
      "_________________________________________________________________\n",
      "dense (Dense)                (None, 4096)              102764544 \n",
      "_________________________________________________________________\n",
      "dense_1 (Dense)              (None, 4096)              16781312  \n",
      "_________________________________________________________________\n",
      "dense_2 (Dense)              (None, 3)                 12291     \n",
      "=================================================================\n",
      "Total params: 134,272,835\n",
      "Trainable params: 134,272,835\n",
      "Non-trainable params: 0\n",
      "_________________________________________________________________\n"
     ]
    }
   ],
   "source": [
    "model.summary()"
   ]
  },
  {
   "cell_type": "markdown",
   "metadata": {},
   "source": [
    "Fitting the model and saving the best one."
   ]
  },
  {
   "cell_type": "code",
   "execution_count": 6,
   "metadata": {},
   "outputs": [
    {
     "name": "stdout",
     "output_type": "stream",
     "text": [
      "WARNING:tensorflow:`period` argument is deprecated. Please use `save_freq` to specify the frequency in number of batches seen.\n",
      "WARNING:tensorflow:From <ipython-input-6-4325f76c38fa>:7: Model.fit_generator (from tensorflow.python.keras.engine.training) is deprecated and will be removed in a future version.\n",
      "Instructions for updating:\n",
      "Please use Model.fit, which supports generators.\n",
      "Epoch 1/50\n",
      "10/10 [==============================] - ETA: 0s - loss: 1327.8524 - accuracy: 0.2825\n",
      "Epoch 00001: val_accuracy improved from -inf to 0.33913, saving model to vgg16_1.h5\n",
      "10/10 [==============================] - 111s 11s/step - loss: 1327.8524 - accuracy: 0.2825 - val_loss: 1.0971 - val_accuracy: 0.3391\n",
      "Epoch 2/50\n",
      "10/10 [==============================] - ETA: 0s - loss: 1.0857 - accuracy: 0.4190\n",
      "Epoch 00002: val_accuracy improved from 0.33913 to 0.39500, saving model to vgg16_1.h5\n",
      "10/10 [==============================] - 120s 12s/step - loss: 1.0857 - accuracy: 0.4190 - val_loss: 1.0789 - val_accuracy: 0.3950\n",
      "Epoch 3/50\n",
      "10/10 [==============================] - ETA: 0s - loss: 1.0746 - accuracy: 0.4762\n",
      "Epoch 00003: val_accuracy improved from 0.39500 to 0.52609, saving model to vgg16_1.h5\n",
      "10/10 [==============================] - 120s 12s/step - loss: 1.0746 - accuracy: 0.4762 - val_loss: 1.0497 - val_accuracy: 0.5261\n",
      "Epoch 4/50\n",
      "10/10 [==============================] - ETA: 0s - loss: 1.4800 - accuracy: 0.5000\n",
      "Epoch 00004: val_accuracy did not improve from 0.52609\n",
      "10/10 [==============================] - 103s 10s/step - loss: 1.4800 - accuracy: 0.5000 - val_loss: 1.0620 - val_accuracy: 0.3826\n",
      "Epoch 5/50\n",
      "10/10 [==============================] - ETA: 0s - loss: 1.1188 - accuracy: 0.4921\n",
      "Epoch 00005: val_accuracy did not improve from 0.52609\n",
      "10/10 [==============================] - 105s 10s/step - loss: 1.1188 - accuracy: 0.4921 - val_loss: 1.0545 - val_accuracy: 0.3900\n",
      "Epoch 6/50\n",
      "10/10 [==============================] - ETA: 0s - loss: 1.0078 - accuracy: 0.4413\n",
      "Epoch 00006: val_accuracy did not improve from 0.52609\n",
      "10/10 [==============================] - 108s 11s/step - loss: 1.0078 - accuracy: 0.4413 - val_loss: 1.0649 - val_accuracy: 0.3870\n",
      "Epoch 7/50\n",
      "10/10 [==============================] - ETA: 0s - loss: 0.8215 - accuracy: 0.5556\n",
      "Epoch 00007: val_accuracy improved from 0.52609 to 0.60870, saving model to vgg16_1.h5\n",
      "10/10 [==============================] - 120s 12s/step - loss: 0.8215 - accuracy: 0.5556 - val_loss: 0.8643 - val_accuracy: 0.6087\n",
      "Epoch 8/50\n",
      "10/10 [==============================] - ETA: 0s - loss: 0.6908 - accuracy: 0.7548\n",
      "Epoch 00008: val_accuracy did not improve from 0.60870\n",
      "10/10 [==============================] - 102s 10s/step - loss: 0.6908 - accuracy: 0.7548 - val_loss: 1.0834 - val_accuracy: 0.5300\n",
      "Epoch 9/50\n",
      "10/10 [==============================] - ETA: 0s - loss: 0.6346 - accuracy: 0.7460\n",
      "Epoch 00009: val_accuracy did not improve from 0.60870\n",
      "10/10 [==============================] - 107s 11s/step - loss: 0.6346 - accuracy: 0.7460 - val_loss: 0.8682 - val_accuracy: 0.5391\n",
      "Epoch 10/50\n",
      "10/10 [==============================] - ETA: 0s - loss: 0.5433 - accuracy: 0.7968\n",
      "Epoch 00010: val_accuracy did not improve from 0.60870\n",
      "10/10 [==============================] - 107s 11s/step - loss: 0.5433 - accuracy: 0.7968 - val_loss: 0.8787 - val_accuracy: 0.5435\n",
      "Epoch 11/50\n",
      "10/10 [==============================] - ETA: 0s - loss: 0.5312 - accuracy: 0.8127\n",
      "Epoch 00011: val_accuracy did not improve from 0.60870\n",
      "10/10 [==============================] - 107s 11s/step - loss: 0.5312 - accuracy: 0.8127 - val_loss: 1.2072 - val_accuracy: 0.5000\n",
      "Epoch 12/50\n",
      "10/10 [==============================] - ETA: 0s - loss: 0.4801 - accuracy: 0.7935\n",
      "Epoch 00012: val_accuracy improved from 0.60870 to 0.68261, saving model to vgg16_1.h5\n",
      "10/10 [==============================] - 117s 12s/step - loss: 0.4801 - accuracy: 0.7935 - val_loss: 0.6899 - val_accuracy: 0.6826\n",
      "Epoch 13/50\n",
      "10/10 [==============================] - ETA: 0s - loss: 0.4249 - accuracy: 0.8508\n",
      "Epoch 00013: val_accuracy did not improve from 0.68261\n",
      "10/10 [==============================] - 107s 11s/step - loss: 0.4249 - accuracy: 0.8508 - val_loss: 11.0498 - val_accuracy: 0.3957\n",
      "Epoch 14/50\n",
      "10/10 [==============================] - ETA: 0s - loss: 1.4284 - accuracy: 0.7460\n",
      "Epoch 00014: val_accuracy did not improve from 0.68261\n",
      "10/10 [==============================] - 107s 11s/step - loss: 1.4284 - accuracy: 0.7460 - val_loss: 1.6415 - val_accuracy: 0.4700\n",
      "Epoch 15/50\n",
      "10/10 [==============================] - ETA: 0s - loss: 0.6037 - accuracy: 0.7714\n",
      "Epoch 00015: val_accuracy did not improve from 0.68261\n",
      "10/10 [==============================] - 107s 11s/step - loss: 0.6037 - accuracy: 0.7714 - val_loss: 1.5863 - val_accuracy: 0.5130\n",
      "Epoch 16/50\n",
      "10/10 [==============================] - ETA: 0s - loss: 0.4790 - accuracy: 0.8161\n",
      "Epoch 00016: val_accuracy did not improve from 0.68261\n",
      "10/10 [==============================] - 109s 11s/step - loss: 0.4790 - accuracy: 0.8161 - val_loss: 1.1592 - val_accuracy: 0.5261\n",
      "Epoch 17/50\n",
      "10/10 [==============================] - ETA: 0s - loss: 0.4268 - accuracy: 0.8381\n",
      "Epoch 00017: val_accuracy did not improve from 0.68261\n",
      "10/10 [==============================] - 105s 11s/step - loss: 0.4268 - accuracy: 0.8381 - val_loss: 0.6685 - val_accuracy: 0.6700\n",
      "Epoch 18/50\n",
      "10/10 [==============================] - ETA: 0s - loss: 0.4168 - accuracy: 0.8444\n",
      "Epoch 00018: val_accuracy improved from 0.68261 to 0.76957, saving model to vgg16_1.h5\n",
      "10/10 [==============================] - 120s 12s/step - loss: 0.4168 - accuracy: 0.8444 - val_loss: 0.8147 - val_accuracy: 0.7696\n",
      "Epoch 19/50\n",
      "10/10 [==============================] - ETA: 0s - loss: 0.3574 - accuracy: 0.8730\n",
      "Epoch 00019: val_accuracy did not improve from 0.76957\n",
      "10/10 [==============================] - 106s 11s/step - loss: 0.3574 - accuracy: 0.8730 - val_loss: 1.0176 - val_accuracy: 0.6826\n",
      "Epoch 20/50\n",
      "10/10 [==============================] - ETA: 0s - loss: 0.3237 - accuracy: 0.8806\n",
      "Epoch 00020: val_accuracy did not improve from 0.76957\n",
      "10/10 [==============================] - 103s 10s/step - loss: 0.3237 - accuracy: 0.8806 - val_loss: 0.7035 - val_accuracy: 0.7100\n",
      "Epoch 21/50\n",
      "10/10 [==============================] - ETA: 0s - loss: 0.1880 - accuracy: 0.9365\n",
      "Epoch 00021: val_accuracy did not improve from 0.76957\n",
      "10/10 [==============================] - 107s 11s/step - loss: 0.1880 - accuracy: 0.9365 - val_loss: 1.5388 - val_accuracy: 0.7348\n",
      "Epoch 22/50\n",
      "10/10 [==============================] - ETA: 0s - loss: 0.3427 - accuracy: 0.8984\n",
      "Epoch 00022: val_accuracy did not improve from 0.76957\n",
      "10/10 [==============================] - 108s 11s/step - loss: 0.3427 - accuracy: 0.8984 - val_loss: 0.7305 - val_accuracy: 0.6565\n",
      "Epoch 23/50\n",
      "10/10 [==============================] - ETA: 0s - loss: 0.1983 - accuracy: 0.9270\n",
      "Epoch 00023: val_accuracy did not improve from 0.76957\n",
      "10/10 [==============================] - 105s 10s/step - loss: 0.1983 - accuracy: 0.9270 - val_loss: 1.3823 - val_accuracy: 0.7000\n",
      "Epoch 24/50\n",
      "10/10 [==============================] - ETA: 0s - loss: 0.4274 - accuracy: 0.9194\n",
      "Epoch 00024: val_accuracy did not improve from 0.76957\n",
      "10/10 [==============================] - 106s 11s/step - loss: 0.4274 - accuracy: 0.9194 - val_loss: 0.9728 - val_accuracy: 0.7565\n",
      "Epoch 25/50\n",
      "10/10 [==============================] - ETA: 0s - loss: 0.4634 - accuracy: 0.8508\n",
      "Epoch 00025: val_accuracy did not improve from 0.76957\n",
      "10/10 [==============================] - 107s 11s/step - loss: 0.4634 - accuracy: 0.8508 - val_loss: 0.6916 - val_accuracy: 0.7478\n",
      "Epoch 26/50\n",
      "10/10 [==============================] - ETA: 0s - loss: 0.1953 - accuracy: 0.9333\n",
      "Epoch 00026: val_accuracy did not improve from 0.76957\n",
      "10/10 [==============================] - 106s 11s/step - loss: 0.1953 - accuracy: 0.9333 - val_loss: 1.2665 - val_accuracy: 0.6650\n",
      "Epoch 27/50\n",
      "10/10 [==============================] - ETA: 0s - loss: 0.1640 - accuracy: 0.9460\n",
      "Epoch 00027: val_accuracy did not improve from 0.76957\n",
      "10/10 [==============================] - 107s 11s/step - loss: 0.1640 - accuracy: 0.9460 - val_loss: 0.9178 - val_accuracy: 0.6913\n",
      "Epoch 28/50\n",
      "10/10 [==============================] - ETA: 0s - loss: 0.2709 - accuracy: 0.9258\n",
      "Epoch 00028: val_accuracy did not improve from 0.76957\n",
      "10/10 [==============================] - 107s 11s/step - loss: 0.2709 - accuracy: 0.9258 - val_loss: 2.1970 - val_accuracy: 0.7565\n",
      "Epoch 29/50\n",
      "10/10 [==============================] - ETA: 0s - loss: 0.7804 - accuracy: 0.9270\n",
      "Epoch 00029: val_accuracy did not improve from 0.76957\n",
      "10/10 [==============================] - 107s 11s/step - loss: 0.7804 - accuracy: 0.9270 - val_loss: 2.0592 - val_accuracy: 0.7450\n",
      "Epoch 30/50\n",
      "10/10 [==============================] - ETA: 0s - loss: 0.4422 - accuracy: 0.8889\n",
      "Epoch 00030: val_accuracy did not improve from 0.76957\n",
      "10/10 [==============================] - 107s 11s/step - loss: 0.4422 - accuracy: 0.8889 - val_loss: 0.8178 - val_accuracy: 0.6609\n",
      "Epoch 31/50\n",
      "10/10 [==============================] - ETA: 0s - loss: 0.1803 - accuracy: 0.9587\n",
      "Epoch 00031: val_accuracy improved from 0.76957 to 0.80870, saving model to vgg16_1.h5\n",
      "10/10 [==============================] - 120s 12s/step - loss: 0.1803 - accuracy: 0.9587 - val_loss: 1.8433 - val_accuracy: 0.8087\n",
      "Epoch 32/50\n",
      "10/10 [==============================] - ETA: 0s - loss: 0.2293 - accuracy: 0.9452\n",
      "Epoch 00032: val_accuracy did not improve from 0.80870\n",
      "10/10 [==============================] - 103s 10s/step - loss: 0.2293 - accuracy: 0.9452 - val_loss: 4.8474 - val_accuracy: 0.6550\n",
      "Epoch 33/50\n",
      "10/10 [==============================] - ETA: 0s - loss: 1.5092 - accuracy: 0.8921\n",
      "Epoch 00033: val_accuracy did not improve from 0.80870\n",
      "10/10 [==============================] - 106s 11s/step - loss: 1.5092 - accuracy: 0.8921 - val_loss: 22.6893 - val_accuracy: 0.6652\n",
      "Epoch 34/50\n",
      "10/10 [==============================] - ETA: 0s - loss: 4.9102 - accuracy: 0.7651\n",
      "Epoch 00034: val_accuracy did not improve from 0.80870\n",
      "10/10 [==============================] - 115s 12s/step - loss: 4.9102 - accuracy: 0.7651 - val_loss: 1.3789 - val_accuracy: 0.4565\n",
      "Epoch 35/50\n",
      "10/10 [==============================] - ETA: 0s - loss: 1.9345 - accuracy: 0.6063 \n",
      "Epoch 00035: val_accuracy did not improve from 0.80870\n",
      "10/10 [==============================] - 121s 12s/step - loss: 1.9345 - accuracy: 0.6063 - val_loss: 1.1517 - val_accuracy: 0.4350\n",
      "Epoch 36/50\n",
      "10/10 [==============================] - ETA: 0s - loss: 1.5762 - accuracy: 0.6516 \n",
      "Epoch 00036: val_accuracy did not improve from 0.80870\n",
      "10/10 [==============================] - 122s 12s/step - loss: 1.5762 - accuracy: 0.6516 - val_loss: 0.7840 - val_accuracy: 0.6391\n",
      "Epoch 37/50\n",
      "10/10 [==============================] - ETA: 0s - loss: 1.6266 - accuracy: 0.6794\n",
      "Epoch 00037: val_accuracy did not improve from 0.80870\n",
      "10/10 [==============================] - 106s 11s/step - loss: 1.6266 - accuracy: 0.6794 - val_loss: 2.2479 - val_accuracy: 0.5739\n",
      "Epoch 38/50\n",
      "10/10 [==============================] - ETA: 0s - loss: 0.7433 - accuracy: 0.8000\n",
      "Epoch 00038: val_accuracy did not improve from 0.80870\n",
      "10/10 [==============================] - 105s 11s/step - loss: 0.7433 - accuracy: 0.8000 - val_loss: 1.0034 - val_accuracy: 0.6050\n",
      "Epoch 39/50\n",
      "10/10 [==============================] - ETA: 0s - loss: 0.7121 - accuracy: 0.7714\n",
      "Epoch 00039: val_accuracy did not improve from 0.80870\n",
      "10/10 [==============================] - 107s 11s/step - loss: 0.7121 - accuracy: 0.7714 - val_loss: 2.1884 - val_accuracy: 0.6609\n",
      "Epoch 40/50\n",
      "10/10 [==============================] - ETA: 0s - loss: 0.6397 - accuracy: 0.8000\n",
      "Epoch 00040: val_accuracy did not improve from 0.80870\n",
      "10/10 [==============================] - 105s 11s/step - loss: 0.6397 - accuracy: 0.8000 - val_loss: 1.0096 - val_accuracy: 0.5739\n",
      "Epoch 41/50\n",
      "10/10 [==============================] - ETA: 0s - loss: 0.3144 - accuracy: 0.8889\n",
      "Epoch 00041: val_accuracy did not improve from 0.80870\n",
      "10/10 [==============================] - 104s 10s/step - loss: 0.3144 - accuracy: 0.8889 - val_loss: 2.0149 - val_accuracy: 0.6200\n",
      "Epoch 42/50\n",
      "10/10 [==============================] - ETA: 0s - loss: 0.3328 - accuracy: 0.9079\n",
      "Epoch 00042: val_accuracy did not improve from 0.80870\n",
      "10/10 [==============================] - 106s 11s/step - loss: 0.3328 - accuracy: 0.9079 - val_loss: 2.4484 - val_accuracy: 0.7130\n",
      "Epoch 43/50\n",
      "10/10 [==============================] - ETA: 0s - loss: 0.4579 - accuracy: 0.8952\n",
      "Epoch 00043: val_accuracy did not improve from 0.80870\n",
      "10/10 [==============================] - 107s 11s/step - loss: 0.4579 - accuracy: 0.8952 - val_loss: 1.2411 - val_accuracy: 0.6087\n",
      "Epoch 44/50\n",
      "10/10 [==============================] - ETA: 0s - loss: 1.6193 - accuracy: 0.8387\n",
      "Epoch 00044: val_accuracy did not improve from 0.80870\n",
      "10/10 [==============================] - 103s 10s/step - loss: 1.6193 - accuracy: 0.8387 - val_loss: 4.7408 - val_accuracy: 0.5800\n",
      "Epoch 45/50\n",
      "10/10 [==============================] - ETA: 0s - loss: 2.0107 - accuracy: 0.8095\n",
      "Epoch 00045: val_accuracy did not improve from 0.80870\n",
      "10/10 [==============================] - 107s 11s/step - loss: 2.0107 - accuracy: 0.8095 - val_loss: 7.1498 - val_accuracy: 0.4957\n",
      "Epoch 46/50\n",
      "10/10 [==============================] - ETA: 0s - loss: 0.7618 - accuracy: 0.7619\n",
      "Epoch 00046: val_accuracy did not improve from 0.80870\n",
      "10/10 [==============================] - 108s 11s/step - loss: 0.7618 - accuracy: 0.7619 - val_loss: 1.3728 - val_accuracy: 0.5000\n",
      "Epoch 47/50\n",
      "10/10 [==============================] - ETA: 0s - loss: 0.5688 - accuracy: 0.7714 \n",
      "Epoch 00047: val_accuracy did not improve from 0.80870\n",
      "10/10 [==============================] - 127s 13s/step - loss: 0.5688 - accuracy: 0.7714 - val_loss: 1.5033 - val_accuracy: 0.4450\n",
      "Epoch 48/50\n",
      "10/10 [==============================] - ETA: 0s - loss: 0.5890 - accuracy: 0.7968 \n",
      "Epoch 00048: val_accuracy did not improve from 0.80870\n",
      "10/10 [==============================] - 130s 13s/step - loss: 0.5890 - accuracy: 0.7968 - val_loss: 2.4769 - val_accuracy: 0.4957\n",
      "Epoch 49/50\n",
      "10/10 [==============================] - ETA: 0s - loss: 0.6822 - accuracy: 0.8254\n",
      "Epoch 00049: val_accuracy did not improve from 0.80870\n",
      "10/10 [==============================] - 110s 11s/step - loss: 0.6822 - accuracy: 0.8254 - val_loss: 1.4271 - val_accuracy: 0.5826\n",
      "Epoch 50/50\n",
      "10/10 [==============================] - ETA: 0s - loss: 0.4887 - accuracy: 0.8032\n",
      "Epoch 00050: val_accuracy did not improve from 0.80870\n",
      "10/10 [==============================] - 106s 11s/step - loss: 0.4887 - accuracy: 0.8032 - val_loss: 1.6421 - val_accuracy: 0.5600\n"
     ]
    }
   ],
   "source": [
    "from keras.callbacks import ModelCheckpoint, EarlyStopping\n",
    "checkpoint = ModelCheckpoint(\"vgg16_1.h5\", monitor='val_accuracy', \n",
    "                             verbose=1, save_best_only=True, \n",
    "                             save_weights_only=False, mode='auto', \n",
    "                             period=1)  #monitor='val_accuracy'\n",
    "early = EarlyStopping(monitor='val_accuracy', min_delta=0, patience=20, verbose=1, mode='auto')\n",
    "hist = model.fit_generator(steps_per_epoch=10,generator=traindata, validation_data= testdata, \n",
    "                           validation_steps=10,epochs=50,callbacks=[checkpoint,early])"
   ]
  },
  {
   "cell_type": "markdown",
   "metadata": {},
   "source": [
    "Plot to see the accuracy vs the epoch"
   ]
  },
  {
   "cell_type": "code",
   "execution_count": 14,
   "metadata": {},
   "outputs": [
    {
     "data": {
      "image/png": "[encoded data removed]",
      "text/plain": [
       "<Figure size 432x288 with 1 Axes>"
      ]
     },
     "metadata": {
      "needs_background": "light"
     },
     "output_type": "display_data"
    }
   ],
   "source": [
    "import matplotlib.pyplot as plt\n",
    "plt.plot(hist.history[\"accuracy\"])\n",
    "plt.plot(hist.history['val_accuracy'])\n",
    "#plt.plot(hist.history['loss'])\n",
    "#plt.plot(hist.history['val_loss'])\n",
    "plt.title(\"model accuracy\")\n",
    "plt.ylabel(\"Accuracy\")\n",
    "plt.xlabel(\"Epoch\")\n",
    "#plt.ylim([0, 20])\n",
    "plt.legend([\"Accuracy\",\"Validation Accuracy\",\"loss\",\"Validation Loss\"])\n",
    "plt.show()"
   ]
  },
  {
   "cell_type": "code",
   "execution_count": null,
   "metadata": {},
   "outputs": [],
   "source": []
  },
  {
   "cell_type": "code",
   "execution_count": null,
   "metadata": {},
   "outputs": [],
   "source": []
  },
  {
   "cell_type": "code",
   "execution_count": null,
   "metadata": {},
   "outputs": [],
   "source": []
  },
  {
   "cell_type": "code",
   "execution_count": null,
   "metadata": {},
   "outputs": [],
   "source": []
  }
 ],
 "metadata": {
  "kernelspec": {
   "display_name": "Python 3",
   "language": "python",
   "name": "python3"
  },
  "language_info": {
   "codemirror_mode": {
    "name": "ipython",
    "version": 3
   },
   "file_extension": ".py",
   "mimetype": "text/x-python",
   "name": "python",
   "nbconvert_exporter": "python",
   "pygments_lexer": "ipython3",
   "version": "3.8.3"
  }
 },
 "nbformat": 4,
 "nbformat_minor": 4
}
